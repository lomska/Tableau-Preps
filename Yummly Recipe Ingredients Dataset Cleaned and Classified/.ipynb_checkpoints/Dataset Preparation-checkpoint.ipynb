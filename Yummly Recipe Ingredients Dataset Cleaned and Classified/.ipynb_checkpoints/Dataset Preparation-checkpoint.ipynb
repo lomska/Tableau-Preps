{
 "cells": [
  {
   "cell_type": "code",
   "execution_count": 1,
   "id": "4fe3f660",
   "metadata": {},
   "outputs": [],
   "source": [
    "import pandas as pd\n",
    "import re\n",
    "import json\n",
    "import nltk\n",
    "from nltk.stem import WordNetLemmatizer\n",
    "lemmatizer = WordNetLemmatizer()"
   ]
  },
  {
   "cell_type": "code",
   "execution_count": 2,
   "id": "b5652375",
   "metadata": {},
   "outputs": [],
   "source": [
    "# To extract the names of the ingredients, I updated the word corpus designed by Zack Scholl:\n",
    "# https://github.com/schollz/ingredients/blob/main/corpus.go\n",
    "\n",
    "file = open(\"assets/corpus.txt\", \"r\", encoding=\"utf-8\")\n",
    "content = file.read()\n",
    "corpus = content.split('\\n')"
   ]
  },
  {
   "cell_type": "code",
   "execution_count": 3,
   "id": "92a2e882",
   "metadata": {},
   "outputs": [
    {
     "data": {
      "text/html": [
       "<div>\n",
       "<style scoped>\n",
       "    .dataframe tbody tr th:only-of-type {\n",
       "        vertical-align: middle;\n",
       "    }\n",
       "\n",
       "    .dataframe tbody tr th {\n",
       "        vertical-align: top;\n",
       "    }\n",
       "\n",
       "    .dataframe thead th {\n",
       "        text-align: right;\n",
       "    }\n",
       "</style>\n",
       "<table border=\"1\" class=\"dataframe\">\n",
       "  <thead>\n",
       "    <tr style=\"text-align: right;\">\n",
       "      <th></th>\n",
       "      <th>recipe_id</th>\n",
       "      <th>cuisine</th>\n",
       "      <th>ingredients</th>\n",
       "      <th>recipes_in_cuisine</th>\n",
       "    </tr>\n",
       "  </thead>\n",
       "  <tbody>\n",
       "    <tr>\n",
       "      <th>0</th>\n",
       "      <td>0</td>\n",
       "      <td>greek</td>\n",
       "      <td>romaine lettuce</td>\n",
       "      <td>1175</td>\n",
       "    </tr>\n",
       "    <tr>\n",
       "      <th>1</th>\n",
       "      <td>0</td>\n",
       "      <td>greek</td>\n",
       "      <td>black olives</td>\n",
       "      <td>1175</td>\n",
       "    </tr>\n",
       "    <tr>\n",
       "      <th>2</th>\n",
       "      <td>0</td>\n",
       "      <td>greek</td>\n",
       "      <td>grape tomatoes</td>\n",
       "      <td>1175</td>\n",
       "    </tr>\n",
       "    <tr>\n",
       "      <th>3</th>\n",
       "      <td>0</td>\n",
       "      <td>greek</td>\n",
       "      <td>garlic</td>\n",
       "      <td>1175</td>\n",
       "    </tr>\n",
       "    <tr>\n",
       "      <th>4</th>\n",
       "      <td>0</td>\n",
       "      <td>greek</td>\n",
       "      <td>pepper</td>\n",
       "      <td>1175</td>\n",
       "    </tr>\n",
       "  </tbody>\n",
       "</table>\n",
       "</div>"
      ],
      "text/plain": [
       "   recipe_id cuisine      ingredients  recipes_in_cuisine\n",
       "0          0   greek  romaine lettuce                1175\n",
       "1          0   greek     black olives                1175\n",
       "2          0   greek   grape tomatoes                1175\n",
       "3          0   greek           garlic                1175\n",
       "4          0   greek           pepper                1175"
      ]
     },
     "execution_count": 3,
     "metadata": {},
     "output_type": "execute_result"
    }
   ],
   "source": [
    "train = json.load(open(\"assets/train.json\", encoding='utf-8'))\n",
    "df = pd.DataFrame.from_dict(train).drop('id', axis=1)\n",
    "\n",
    "df['recipes_in_cuisine'] = df.groupby('cuisine')['ingredients'].transform('count')\n",
    "df = df.explode('ingredients').reset_index()\n",
    "df = df.rename(columns = {'index': 'recipe_id'})\n",
    "\n",
    "df.head()"
   ]
  },
  {
   "cell_type": "code",
   "execution_count": 4,
   "id": "c4ad20ec",
   "metadata": {},
   "outputs": [
    {
     "name": "stdout",
     "output_type": "stream",
     "text": [
      "Initial df shape:  (428275, 4)\n",
      "Filtered df shape:  (285483, 4)\n"
     ]
    }
   ],
   "source": [
    "print('Initial df shape: ', df.shape)\n",
    "df = df[df['cuisine'].isin(df[[\n",
    "    'cuisine', 'recipes_in_cuisine'\n",
    "]].drop_duplicates().sort_values(by='recipes_in_cuisine',\n",
    "                                 ascending=False).head(6)['cuisine'].tolist())]\n",
    "print('Filtered df shape: ', df.shape)"
   ]
  },
  {
   "cell_type": "code",
   "execution_count": 5,
   "id": "95f4a219",
   "metadata": {},
   "outputs": [
    {
     "data": {
      "text/html": [
       "<div>\n",
       "<style scoped>\n",
       "    .dataframe tbody tr th:only-of-type {\n",
       "        vertical-align: middle;\n",
       "    }\n",
       "\n",
       "    .dataframe tbody tr th {\n",
       "        vertical-align: top;\n",
       "    }\n",
       "\n",
       "    .dataframe thead th {\n",
       "        text-align: right;\n",
       "    }\n",
       "</style>\n",
       "<table border=\"1\" class=\"dataframe\">\n",
       "  <thead>\n",
       "    <tr style=\"text-align: right;\">\n",
       "      <th></th>\n",
       "      <th>cuisine</th>\n",
       "      <th>recipes_in_cuisine</th>\n",
       "    </tr>\n",
       "  </thead>\n",
       "  <tbody>\n",
       "    <tr>\n",
       "      <th>81</th>\n",
       "      <td>italian</td>\n",
       "      <td>7838</td>\n",
       "    </tr>\n",
       "    <tr>\n",
       "      <th>91</th>\n",
       "      <td>mexican</td>\n",
       "      <td>6438</td>\n",
       "    </tr>\n",
       "    <tr>\n",
       "      <th>9</th>\n",
       "      <td>southern_us</td>\n",
       "      <td>4320</td>\n",
       "    </tr>\n",
       "    <tr>\n",
       "      <th>32</th>\n",
       "      <td>indian</td>\n",
       "      <td>3003</td>\n",
       "    </tr>\n",
       "    <tr>\n",
       "      <th>123</th>\n",
       "      <td>chinese</td>\n",
       "      <td>2673</td>\n",
       "    </tr>\n",
       "    <tr>\n",
       "      <th>469</th>\n",
       "      <td>french</td>\n",
       "      <td>2646</td>\n",
       "    </tr>\n",
       "  </tbody>\n",
       "</table>\n",
       "</div>"
      ],
      "text/plain": [
       "         cuisine  recipes_in_cuisine\n",
       "81       italian                7838\n",
       "91       mexican                6438\n",
       "9    southern_us                4320\n",
       "32        indian                3003\n",
       "123      chinese                2673\n",
       "469       french                2646"
      ]
     },
     "execution_count": 5,
     "metadata": {},
     "output_type": "execute_result"
    }
   ],
   "source": [
    "df[['cuisine', 'recipes_in_cuisine'\n",
    "    ]].drop_duplicates().sort_values(by='recipes_in_cuisine',\n",
    "                                     ascending=False).head(6)"
   ]
  },
  {
   "cell_type": "markdown",
   "id": "944a4343",
   "metadata": {},
   "source": [
    "#### Creating ingredients dictionary"
   ]
  },
  {
   "cell_type": "code",
   "execution_count": 6,
   "id": "c4135dce",
   "metadata": {},
   "outputs": [],
   "source": [
    "ingr_map = df[['ingredients']].drop_duplicates().reset_index(drop=True)"
   ]
  },
  {
   "cell_type": "code",
   "execution_count": 7,
   "id": "f2cdc992",
   "metadata": {},
   "outputs": [
    {
     "name": "stdout",
     "output_type": "stream",
     "text": [
      "Unique ingredients number:  5666\n"
     ]
    }
   ],
   "source": [
    "print('Unique ingredients number: ', len(ingr_map.ingredients))"
   ]
  },
  {
   "cell_type": "markdown",
   "id": "d6b6dadc",
   "metadata": {},
   "source": [
    "#### Getting rid of unnecessary brand names"
   ]
  },
  {
   "cell_type": "code",
   "execution_count": 8,
   "id": "d4748413",
   "metadata": {},
   "outputs": [],
   "source": [
    "brands_to_remove = []\n",
    "\n",
    "for row in df['ingredients'].unique():\n",
    "    for word in row.split(' '):\n",
    "        if word.endswith(tuple(['®', '™', '’s'])):\n",
    "            brand_str = row[:max(\n",
    "                [row.rfind('®'\n",
    "                           ), row.\n",
    "                 rfind('™'), row.rfind('’s')]) + 2].strip()\n",
    "            if not brand_str.lower() in brands_to_remove:\n",
    "                brands_to_remove.append(brand_str.lower())\n",
    "brands_to_remove = [x for x in brands_to_remove if not x == 'sheep’s']\n",
    "\n",
    "brands_to_remove_add = [\n",
    "    'A Taste of Thai', 'Accent', 'All Natural Regular', 'Applewood', 'Argo',\n",
    "    'Azteca', \"BREAKSTONE'S\", 'Barilla', 'Bertolli', 'Best Food',\n",
    "    'Better Than Bouillon', 'Bisquick', 'Bisquick Original', 'Bob Evans',\n",
    "    'Bragg', 'CURRY GUY', 'Camellia', \"Campbell's Condensed\", 'Cholula',\n",
    "    'Cinnamon Toast Crunch', 'Country Crock', 'Crisco', 'Crystal Farms',\n",
    "    'Crystal Hot Sauce', 'Daisy', 'Daiya', 'DeLallo', 'Dole', 'Domino',\n",
    "    'Doritos', 'Earth Balance', 'Estancia', 'Everglades',\n",
    "    'Farmhouse Originals', 'Fiber One', 'Fiesta Sides', 'Fisher',\n",
    "    'Flora Cuisine', 'Franks', 'Gebhardt', 'Gold Medal',\n",
    "    'Golden VeggieGood Seasons', 'Gourmet Garden', 'Goya', 'Green Giant',\n",
    "    'Hatch', 'Heinz', 'Hellmann', \"Hellmann'\", \"Hellmann''s\", \"Hellmann's\",\n",
    "    'Herdez', 'Herdez', 'Hogue', 'Hurst Family Harvest', 'Ibarra',\n",
    "    'Imperial Sugar', 'JOHNSONVILLE', 'Jell-O', 'Jif', 'Jiffy', 'Jimmy Dean',\n",
    "    'Johnsonville', 'KNUDSEN', 'KRAFT', 'Kewpie', 'Kikkoman', 'Kikkoman',\n",
    "    'Kim Crawford', 'Klondike Rose', 'Knorr', 'Knudsen', 'Kraft', 'Kroger',\n",
    "    'La Victoria', 'Lea & Perrins', 'Lipton', 'Mae Ploy', 'Maggi',\n",
    "    'Makers Mark', 'Manischewitz', 'Margherita', 'Martha White', 'Mazola',\n",
    "    'McCormick', 'Mizkan', 'Mizkan Oigatsuo', 'Morton Salt', 'Mrs. Dash',\n",
    "    'Nakano', 'Nido', 'Nielsen-Massey', 'Nilla', \"O'Brien\", 'Old Bay',\n",
    "    'Old El Paso', 'Old World Style', 'Ortega', 'Oscar Mayer', 'Pace', 'Pam',\n",
    "    'Pepperidge Farm', 'Pillsbury', 'Pompeian', 'Prego', 'Progresso',\n",
    "    'Pure Wesson', 'Quorn', 'Ritz', 'Ro-Tel', 'Robert Mondavi', 'Rotel',\n",
    "    'Royal Baking Powder', 'SYD', 'San Marzano', 'Skippy', 'Smart Balance',\n",
    "    'Smithfield', 'Spice Islands', 'Spike', 'Splenda', 'Stonefire', 'Success',\n",
    "    'Swanson', 'Swerve', 'Tabasco', 'Taco Bell', 'Tapatio', 'Texas Pete',\n",
    "    'Thick & Chunky', \"Thick 'n Chunky\", \"Tony Chachere's\",\n",
    "    'Traditional Cut Shredded', 'Tuttorosso', 'Tyson', \"Uncle Ben's\",\n",
    "    'Uncle Bens', 'V8', 'White Lily', 'Wholesome Sweeteners', 'Wish Bone',\n",
    "    'Wish-Bone', 'Wolf Brand', 'Zatarains', 'bertolli® classico',\n",
    "    \"best food's\", 'calcium plus vitamin d', ' - mexican rice',\n",
    "    'golden onion', 'home originals', 'homestyl', 'hot & spicy',\n",
    "    'italian side', 'or best food', 'or best food real',\n",
    "    'pasta side   cheesi cheddar', ' - butter & herb',\n",
    "    ' - alfredo', ' - chicken flavor', 'recip secret',\n",
    "    'rice side   cheddar broccoli', 'vegetable recipe mix',\n",
    "    'vineyard premium collect'\n",
    "]\n",
    "\n",
    "for brand in brands_to_remove_add:\n",
    "    if not brand.lower() in brands_to_remove:\n",
    "        brands_to_remove.append(brand.lower())\n",
    "\n",
    "# regroup so that we remove compound names first and then simple ones\n",
    "brands_to_remove_ordered = [\n",
    "    x for _, x in sorted(zip([len(x)\n",
    "                              for x in brands_to_remove], brands_to_remove),\n",
    "                         reverse=True)\n",
    "]\n",
    "\n",
    "brands_to_remove_single = []\n",
    "brands_to_remove_multi = []\n",
    "\n",
    "for brand in brands_to_remove_ordered:\n",
    "    if len(brand.split(' ')) > 1:\n",
    "        brands_to_remove_multi.append(brand)\n",
    "    else:\n",
    "        brands_to_remove_single.append(brand)\n",
    "\n",
    "def remove_brands(data):\n",
    "    row = data['ingredients']\n",
    "    row = re.sub('|'.join(brands_to_remove_multi), \"\", row.lower()).strip()\n",
    "    splitted_row = row.split(' ')\n",
    "    splitted_row_new = [\n",
    "        x for x in splitted_row if not x in brands_to_remove_single\n",
    "    ]\n",
    "    new_line = ' '.join(splitted_row_new)\n",
    "    new_line = re.sub('|'.join(['    ', '   ', '  ']), ' ', new_line).strip()    \n",
    "    return new_line\n",
    "\n",
    "\n",
    "ingr_map['brands_removed'] = ingr_map.apply(remove_brands, axis=1)"
   ]
  },
  {
   "cell_type": "code",
   "execution_count": 9,
   "id": "c22eda08",
   "metadata": {},
   "outputs": [
    {
     "name": "stdout",
     "output_type": "stream",
     "text": [
      "Initial unique ingredients number:  5666\n",
      "Filtered unique ingredients number:  5489\n"
     ]
    }
   ],
   "source": [
    "print('Initial unique ingredients number: ', len(ingr_map['ingredients'].unique()))\n",
    "print('Filtered unique ingredients number: ', len(ingr_map['brands_removed'].unique()))"
   ]
  },
  {
   "cell_type": "markdown",
   "id": "fe856a2e",
   "metadata": {},
   "source": [
    "#### Extracting corpus words"
   ]
  },
  {
   "cell_type": "code",
   "execution_count": 10,
   "id": "5d5d89ce",
   "metadata": {},
   "outputs": [],
   "source": [
    "def tokenize(text):\n",
    "    text = text.lower()\n",
    "    text = re.sub(r'\\d+', '', text)\n",
    "    text = re.sub(r'[^\\w\\s]', '', text)\n",
    "    tokens = nltk.word_tokenize(text)\n",
    "    tokens = nltk.word_tokenize(text)\n",
    "    tokens_lemmatized = []\n",
    "    for t in tokens:\n",
    "        new_t = lemmatizer.lemmatize(t)\n",
    "        tokens_lemmatized.append(new_t)\n",
    "    return tokens_lemmatized\n",
    "\n",
    "\n",
    "corpus_tokenized = [tokenize(x) for x in corpus]"
   ]
  },
  {
   "cell_type": "code",
   "execution_count": 11,
   "id": "48f68389",
   "metadata": {},
   "outputs": [],
   "source": [
    "corpus_token_dict = dict()\n",
    "\n",
    "for row, tokens in zip(corpus, corpus_tokenized):\n",
    "    if tokens in corpus_token_dict.values():\n",
    "        for k, v in corpus_token_dict.items():\n",
    "            if v == tokens:\n",
    "                old_key = k\n",
    "        corpus_token_dict.pop(old_key)\n",
    "        corpus_token_dict[row] = tokens\n",
    "    corpus_token_dict[row] = tokens"
   ]
  },
  {
   "cell_type": "code",
   "execution_count": 12,
   "id": "492993d6",
   "metadata": {},
   "outputs": [],
   "source": [
    "def return_corpus_words(data):\n",
    "    row = data['brands_removed']\n",
    "    row_tokenized = tokenize(row)\n",
    "    for ingredient in corpus_tokenized:\n",
    "        if set(ingredient).issubset(row_tokenized):\n",
    "            ingredient_items_from_row_tokenized = [\n",
    "                x for x in row_tokenized if x in ingredient\n",
    "            ]\n",
    "            if ingredient == ingredient_items_from_row_tokenized:\n",
    "                for k, v in corpus_token_dict.items():\n",
    "                    if v == ingredient:\n",
    "                        ingredient_key = k\n",
    "                new_row = ingredient_key\n",
    "                break\n",
    "            else:\n",
    "                new_row = ''\n",
    "        else:\n",
    "            new_row = ''\n",
    "    return new_row\n",
    "\n",
    "\n",
    "ingr_map['corpus_extracted'] = ingr_map.apply(return_corpus_words, axis=1)"
   ]
  },
  {
   "cell_type": "code",
   "execution_count": 13,
   "id": "1687474f",
   "metadata": {},
   "outputs": [
    {
     "name": "stdout",
     "output_type": "stream",
     "text": [
      "Initial unique ingredients number:  5489\n",
      "Filtered unique ingredients number:  3065\n"
     ]
    }
   ],
   "source": [
    "print('Initial unique ingredients number: ', len(ingr_map['brands_removed'].unique()))\n",
    "print('Filtered unique ingredients number: ', len(ingr_map['corpus_extracted'].unique()))"
   ]
  },
  {
   "cell_type": "markdown",
   "id": "cc47504b",
   "metadata": {},
   "source": [
    "#### Ingredient classification"
   ]
  },
  {
   "cell_type": "code",
   "execution_count": 14,
   "id": "29c6fa89",
   "metadata": {},
   "outputs": [],
   "source": [
    "with open('assets/corpus_convertion.json') as json_file:\n",
    "    corpus_convert_dict = json.load(json_file)\n",
    "with open('assets/ingredient_classification.json') as json_file:\n",
    "    classification_dict = json.load(json_file)"
   ]
  },
  {
   "cell_type": "code",
   "execution_count": 15,
   "id": "121bc2c8",
   "metadata": {},
   "outputs": [],
   "source": [
    "convert_ingr_dict = dict()\n",
    "\n",
    "for ingredient in ingr_map['corpus_extracted'].unique():\n",
    "    for key, ingredient_list in corpus_convert_dict.items():\n",
    "        if ingredient in ingredient_list:\n",
    "            convert_ingr_dict[ingredient] = key\n",
    "\n",
    "ingr_map['ingredients_extracted'] = [\n",
    "    convert_ingr_dict[x] if x in convert_ingr_dict.keys() else x\n",
    "    for x in ingr_map['corpus_extracted']\n",
    "]"
   ]
  },
  {
   "cell_type": "code",
   "execution_count": 16,
   "id": "90512ae9",
   "metadata": {},
   "outputs": [
    {
     "name": "stdout",
     "output_type": "stream",
     "text": [
      "Initial unique ingredients number:  3065\n",
      "Filtered unique ingredients number:  1444\n"
     ]
    }
   ],
   "source": [
    "print('Initial unique ingredients number: ', len(ingr_map['corpus_extracted'].unique()))\n",
    "print('Filtered unique ingredients number: ', len(ingr_map['ingredients_extracted'].unique()))"
   ]
  },
  {
   "cell_type": "code",
   "execution_count": 17,
   "id": "7ee08120",
   "metadata": {},
   "outputs": [],
   "source": [
    "class_lvl1 = dict()\n",
    "class_lvl2 = dict()\n",
    "\n",
    "for ingredient in ingr_map['ingredients_extracted'].unique():\n",
    "    for key in classification_dict.keys():\n",
    "        for k, ingredient_list in classification_dict[key].items():\n",
    "            if ingredient in ingredient_list:\n",
    "                class_lvl1[ingredient] = key\n",
    "                class_lvl2[ingredient] = k\n",
    "                \n",
    "ingr_map['subgroup'] = ingr_map['ingredients_extracted'].map(class_lvl2)\n",
    "ingr_map['group'] = ingr_map['ingredients_extracted'].map(class_lvl1)"
   ]
  },
  {
   "cell_type": "code",
   "execution_count": 18,
   "id": "ee2c63bb",
   "metadata": {},
   "outputs": [
    {
     "data": {
      "text/html": [
       "<div>\n",
       "<style scoped>\n",
       "    .dataframe tbody tr th:only-of-type {\n",
       "        vertical-align: middle;\n",
       "    }\n",
       "\n",
       "    .dataframe tbody tr th {\n",
       "        vertical-align: top;\n",
       "    }\n",
       "\n",
       "    .dataframe thead th {\n",
       "        text-align: right;\n",
       "    }\n",
       "</style>\n",
       "<table border=\"1\" class=\"dataframe\">\n",
       "  <thead>\n",
       "    <tr style=\"text-align: right;\">\n",
       "      <th></th>\n",
       "      <th>ingredients</th>\n",
       "      <th>brands_removed</th>\n",
       "      <th>corpus_extracted</th>\n",
       "      <th>ingredients_extracted</th>\n",
       "      <th>subgroup</th>\n",
       "      <th>group</th>\n",
       "    </tr>\n",
       "  </thead>\n",
       "  <tbody>\n",
       "    <tr>\n",
       "      <th>0</th>\n",
       "      <td>plain flour</td>\n",
       "      <td>plain flour</td>\n",
       "      <td>flour</td>\n",
       "      <td>flour</td>\n",
       "      <td>bakery</td>\n",
       "      <td>grains_seeds_beans_and_nuts</td>\n",
       "    </tr>\n",
       "    <tr>\n",
       "      <th>1</th>\n",
       "      <td>ground pepper</td>\n",
       "      <td>ground pepper</td>\n",
       "      <td>ground pepper</td>\n",
       "      <td>pepper</td>\n",
       "      <td>spices</td>\n",
       "      <td>spices_and_herbs</td>\n",
       "    </tr>\n",
       "    <tr>\n",
       "      <th>2</th>\n",
       "      <td>salt</td>\n",
       "      <td>salt</td>\n",
       "      <td>salt</td>\n",
       "      <td>salt</td>\n",
       "      <td>salt</td>\n",
       "      <td>salt</td>\n",
       "    </tr>\n",
       "    <tr>\n",
       "      <th>3</th>\n",
       "      <td>tomatoes</td>\n",
       "      <td>tomatoes</td>\n",
       "      <td>tomato</td>\n",
       "      <td>tomato</td>\n",
       "      <td>vegetables</td>\n",
       "      <td>vegetables_mushrooms_and_fruit</td>\n",
       "    </tr>\n",
       "    <tr>\n",
       "      <th>4</th>\n",
       "      <td>ground black pepper</td>\n",
       "      <td>ground black pepper</td>\n",
       "      <td>ground black pepper</td>\n",
       "      <td>pepper</td>\n",
       "      <td>spices</td>\n",
       "      <td>spices_and_herbs</td>\n",
       "    </tr>\n",
       "  </tbody>\n",
       "</table>\n",
       "</div>"
      ],
      "text/plain": [
       "           ingredients       brands_removed     corpus_extracted  \\\n",
       "0          plain flour          plain flour                flour   \n",
       "1        ground pepper        ground pepper        ground pepper   \n",
       "2                 salt                 salt                 salt   \n",
       "3             tomatoes             tomatoes               tomato   \n",
       "4  ground black pepper  ground black pepper  ground black pepper   \n",
       "\n",
       "  ingredients_extracted    subgroup                           group  \n",
       "0                 flour      bakery     grains_seeds_beans_and_nuts  \n",
       "1                pepper      spices                spices_and_herbs  \n",
       "2                  salt        salt                            salt  \n",
       "3                tomato  vegetables  vegetables_mushrooms_and_fruit  \n",
       "4                pepper      spices                spices_and_herbs  "
      ]
     },
     "execution_count": 18,
     "metadata": {},
     "output_type": "execute_result"
    }
   ],
   "source": [
    "ingr_map.head()"
   ]
  },
  {
   "cell_type": "markdown",
   "id": "6214a9e1",
   "metadata": {},
   "source": [
    "#### Mapping the ingredients in the main dataframe"
   ]
  },
  {
   "cell_type": "code",
   "execution_count": 19,
   "id": "0a8a4ee3",
   "metadata": {},
   "outputs": [],
   "source": [
    "df['ingredients_extracted'] = df['ingredients'].map(\n",
    "    ingr_map.set_index('ingredients')['ingredients_extracted'].to_dict())\n",
    "df['subgroup'] = df['ingredients_extracted'].map(\n",
    "    ingr_map.set_index('ingredients_extracted')['subgroup'].to_dict())\n",
    "df['group'] = df['ingredients_extracted'].map(\n",
    "    ingr_map.set_index('ingredients_extracted')['group'].to_dict())"
   ]
  },
  {
   "cell_type": "code",
   "execution_count": 20,
   "id": "6e163606",
   "metadata": {},
   "outputs": [
    {
     "data": {
      "text/html": [
       "<div>\n",
       "<style scoped>\n",
       "    .dataframe tbody tr th:only-of-type {\n",
       "        vertical-align: middle;\n",
       "    }\n",
       "\n",
       "    .dataframe tbody tr th {\n",
       "        vertical-align: top;\n",
       "    }\n",
       "\n",
       "    .dataframe thead th {\n",
       "        text-align: right;\n",
       "    }\n",
       "</style>\n",
       "<table border=\"1\" class=\"dataframe\">\n",
       "  <thead>\n",
       "    <tr style=\"text-align: right;\">\n",
       "      <th></th>\n",
       "      <th>recipe_id</th>\n",
       "      <th>cuisine</th>\n",
       "      <th>ingredients</th>\n",
       "      <th>recipes_in_cuisine</th>\n",
       "      <th>ingredients_extracted</th>\n",
       "      <th>subgroup</th>\n",
       "      <th>group</th>\n",
       "    </tr>\n",
       "  </thead>\n",
       "  <tbody>\n",
       "    <tr>\n",
       "      <th>9</th>\n",
       "      <td>1</td>\n",
       "      <td>southern_us</td>\n",
       "      <td>plain flour</td>\n",
       "      <td>4320</td>\n",
       "      <td>flour</td>\n",
       "      <td>bakery</td>\n",
       "      <td>grains_seeds_beans_and_nuts</td>\n",
       "    </tr>\n",
       "    <tr>\n",
       "      <th>10</th>\n",
       "      <td>1</td>\n",
       "      <td>southern_us</td>\n",
       "      <td>ground pepper</td>\n",
       "      <td>4320</td>\n",
       "      <td>pepper</td>\n",
       "      <td>spices</td>\n",
       "      <td>spices_and_herbs</td>\n",
       "    </tr>\n",
       "    <tr>\n",
       "      <th>11</th>\n",
       "      <td>1</td>\n",
       "      <td>southern_us</td>\n",
       "      <td>salt</td>\n",
       "      <td>4320</td>\n",
       "      <td>salt</td>\n",
       "      <td>salt</td>\n",
       "      <td>salt</td>\n",
       "    </tr>\n",
       "    <tr>\n",
       "      <th>12</th>\n",
       "      <td>1</td>\n",
       "      <td>southern_us</td>\n",
       "      <td>tomatoes</td>\n",
       "      <td>4320</td>\n",
       "      <td>tomato</td>\n",
       "      <td>vegetables</td>\n",
       "      <td>vegetables_mushrooms_and_fruit</td>\n",
       "    </tr>\n",
       "    <tr>\n",
       "      <th>13</th>\n",
       "      <td>1</td>\n",
       "      <td>southern_us</td>\n",
       "      <td>ground black pepper</td>\n",
       "      <td>4320</td>\n",
       "      <td>pepper</td>\n",
       "      <td>spices</td>\n",
       "      <td>spices_and_herbs</td>\n",
       "    </tr>\n",
       "  </tbody>\n",
       "</table>\n",
       "</div>"
      ],
      "text/plain": [
       "    recipe_id      cuisine          ingredients  recipes_in_cuisine  \\\n",
       "9           1  southern_us          plain flour                4320   \n",
       "10          1  southern_us        ground pepper                4320   \n",
       "11          1  southern_us                 salt                4320   \n",
       "12          1  southern_us             tomatoes                4320   \n",
       "13          1  southern_us  ground black pepper                4320   \n",
       "\n",
       "   ingredients_extracted    subgroup                           group  \n",
       "9                  flour      bakery     grains_seeds_beans_and_nuts  \n",
       "10                pepper      spices                spices_and_herbs  \n",
       "11                  salt        salt                            salt  \n",
       "12                tomato  vegetables  vegetables_mushrooms_and_fruit  \n",
       "13                pepper      spices                spices_and_herbs  "
      ]
     },
     "execution_count": 20,
     "metadata": {},
     "output_type": "execute_result"
    }
   ],
   "source": [
    "df.head()"
   ]
  },
  {
   "cell_type": "code",
   "execution_count": 21,
   "id": "49f8d9e3",
   "metadata": {},
   "outputs": [],
   "source": [
    "df.columns = ['recipe_id', 'cuisine', 'ingredient', 'recipes_in_cuisine', 'ingredient_extracted', 'subgroup', 'group']\n",
    "df = df[['recipe_id', 'cuisine', 'recipes_in_cuisine', 'ingredient', 'group', 'subgroup', 'ingredient_extracted']]"
   ]
  },
  {
   "cell_type": "code",
   "execution_count": 23,
   "id": "447b43ff",
   "metadata": {},
   "outputs": [],
   "source": [
    "df.to_csv('yummly_six_cuisines_cleaned.csv')"
   ]
  },
  {
   "cell_type": "code",
   "execution_count": null,
   "id": "ff259c0e",
   "metadata": {},
   "outputs": [],
   "source": []
  }
 ],
 "metadata": {
  "kernelspec": {
   "display_name": "Python 3 (ipykernel)",
   "language": "python",
   "name": "python3"
  },
  "language_info": {
   "codemirror_mode": {
    "name": "ipython",
    "version": 3
   },
   "file_extension": ".py",
   "mimetype": "text/x-python",
   "name": "python",
   "nbconvert_exporter": "python",
   "pygments_lexer": "ipython3",
   "version": "3.11.5"
  }
 },
 "nbformat": 4,
 "nbformat_minor": 5
}
